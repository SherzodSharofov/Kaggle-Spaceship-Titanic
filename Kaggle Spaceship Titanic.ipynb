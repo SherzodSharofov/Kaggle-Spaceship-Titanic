{
 "cells":[
  {
   "cell_type":"markdown",
   "source":[
    "# main"
   ],
   "attachments":{
    
   },
   "metadata":{
    "datalore":{
     "node_id":"main",
     "type":"MD",
     "hide_input_from_viewers":false,
     "hide_output_from_viewers":false,
     "sheet_delimiter":true
    }
   }
  },
  {
   "cell_type":"code",
   "source":[
    "!pip install openpyxl --quiet\n",
    "\n",
    "import pandas as pd \n",
    "import numpy as np\n",
    "import seaborn as sns\n",
    "import matplotlib.pyplot as plt"
   ],
   "execution_count":111,
   "outputs":[
    {
     "name":"stdout",
     "text":[
      "\r\n",
      "\u001b[1m[\u001b[0m\u001b[34;49mnotice\u001b[0m\u001b[1;39;49m]\u001b[0m\u001b[39;49m A new release of pip is available: \u001b[0m\u001b[31;49m23.1.2\u001b[0m\u001b[39;49m -> \u001b[0m\u001b[32;49m25.0.1\u001b[0m\r\n",
      "\u001b[1m[\u001b[0m\u001b[34;49mnotice\u001b[0m\u001b[1;39;49m]\u001b[0m\u001b[39;49m To update, run: \u001b[0m\u001b[32;49mpip install --upgrade pip\u001b[0m\r\n"
     ],
     "output_type":"stream"
    }
   ],
   "metadata":{
    "datalore":{
     "node_id":"W79uoG4AFgBnIvOZ7NfXJk",
     "type":"CODE",
     "hide_input_from_viewers":true,
     "hide_output_from_viewers":true
    }
   }
  },
  {
   "cell_type":"code",
   "source":[
    "train_data = pd.read_csv('\/data\/notebook_files\/train.csv', dtype=str)\n",
    "test_data = pd.read_csv('\/data\/notebook_files\/test.csv', dtype=str)"
   ],
   "execution_count":112,
   "outputs":[
    
   ],
   "metadata":{
    "datalore":{
     "node_id":"NC6vXIPvdhSyjdAr2S3fo9",
     "type":"CODE",
     "hide_input_from_viewers":true,
     "hide_output_from_viewers":true
    }
   }
  },
  {
   "cell_type":"markdown",
   "source":[
    "FIRSTLY WE HAVE TO DO DATA RESEARCH"
   ],
   "attachments":{
    
   },
   "metadata":{
    "datalore":{
     "node_id":"6Mk6JtRK5M3NomYQ0hJlaW",
     "type":"MD",
     "hide_input_from_viewers":true,
     "hide_output_from_viewers":true
    }
   }
  },
  {
   "cell_type":"code",
   "source":[
    "train_data.head()"
   ],
   "execution_count":113,
   "outputs":[
    {
     "data":{
      "text\/html":[
       "<div>\n",
       "<style scoped>\n",
       "    .dataframe tbody tr th:only-of-type {\n",
       "        vertical-align: middle;\n",
       "    }\n",
       "\n",
       "    .dataframe tbody tr th {\n",
       "        vertical-align: top;\n",
       "    }\n",
       "\n",
       "    .dataframe thead th {\n",
       "        text-align: right;\n",
       "    }\n",
       "<\/style>\n",
       "<table border=\"1\" class=\"dataframe\">\n",
       "  <thead>\n",
       "    <tr style=\"text-align: right;\">\n",
       "      <th><\/th>\n",
       "      <th>PassengerId<\/th>\n",
       "      <th>HomePlanet<\/th>\n",
       "      <th>CryoSleep<\/th>\n",
       "      <th>Cabin<\/th>\n",
       "      <th>Destination<\/th>\n",
       "      <th>Age<\/th>\n",
       "      <th>VIP<\/th>\n",
       "      <th>RoomService<\/th>\n",
       "      <th>FoodCourt<\/th>\n",
       "      <th>ShoppingMall<\/th>\n",
       "      <th>Spa<\/th>\n",
       "      <th>VRDeck<\/th>\n",
       "      <th>Name<\/th>\n",
       "      <th>Transported<\/th>\n",
       "    <\/tr>\n",
       "  <\/thead>\n",
       "  <tbody>\n",
       "    <tr>\n",
       "      <th>0<\/th>\n",
       "      <td>0001_01<\/td>\n",
       "      <td>Europa<\/td>\n",
       "      <td>False<\/td>\n",
       "      <td>B\/0\/P<\/td>\n",
       "      <td>TRAPPIST-1e<\/td>\n",
       "      <td>39.0<\/td>\n",
       "      <td>False<\/td>\n",
       "      <td>0.0<\/td>\n",
       "      <td>0.0<\/td>\n",
       "      <td>0.0<\/td>\n",
       "      <td>0.0<\/td>\n",
       "      <td>0.0<\/td>\n",
       "      <td>Maham Ofracculy<\/td>\n",
       "      <td>False<\/td>\n",
       "    <\/tr>\n",
       "    <tr>\n",
       "      <th>1<\/th>\n",
       "      <td>0002_01<\/td>\n",
       "      <td>Earth<\/td>\n",
       "      <td>False<\/td>\n",
       "      <td>F\/0\/S<\/td>\n",
       "      <td>TRAPPIST-1e<\/td>\n",
       "      <td>24.0<\/td>\n",
       "      <td>False<\/td>\n",
       "      <td>109.0<\/td>\n",
       "      <td>9.0<\/td>\n",
       "      <td>25.0<\/td>\n",
       "      <td>549.0<\/td>\n",
       "      <td>44.0<\/td>\n",
       "      <td>Juanna Vines<\/td>\n",
       "      <td>True<\/td>\n",
       "    <\/tr>\n",
       "    <tr>\n",
       "      <th>2<\/th>\n",
       "      <td>0003_01<\/td>\n",
       "      <td>Europa<\/td>\n",
       "      <td>False<\/td>\n",
       "      <td>A\/0\/S<\/td>\n",
       "      <td>TRAPPIST-1e<\/td>\n",
       "      <td>58.0<\/td>\n",
       "      <td>True<\/td>\n",
       "      <td>43.0<\/td>\n",
       "      <td>3576.0<\/td>\n",
       "      <td>0.0<\/td>\n",
       "      <td>6715.0<\/td>\n",
       "      <td>49.0<\/td>\n",
       "      <td>Altark Susent<\/td>\n",
       "      <td>False<\/td>\n",
       "    <\/tr>\n",
       "    <tr>\n",
       "      <th>3<\/th>\n",
       "      <td>0003_02<\/td>\n",
       "      <td>Europa<\/td>\n",
       "      <td>False<\/td>\n",
       "      <td>A\/0\/S<\/td>\n",
       "      <td>TRAPPIST-1e<\/td>\n",
       "      <td>33.0<\/td>\n",
       "      <td>False<\/td>\n",
       "      <td>0.0<\/td>\n",
       "      <td>1283.0<\/td>\n",
       "      <td>371.0<\/td>\n",
       "      <td>3329.0<\/td>\n",
       "      <td>193.0<\/td>\n",
       "      <td>Solam Susent<\/td>\n",
       "      <td>False<\/td>\n",
       "    <\/tr>\n",
       "    <tr>\n",
       "      <th>4<\/th>\n",
       "      <td>0004_01<\/td>\n",
       "      <td>Earth<\/td>\n",
       "      <td>False<\/td>\n",
       "      <td>F\/1\/S<\/td>\n",
       "      <td>TRAPPIST-1e<\/td>\n",
       "      <td>16.0<\/td>\n",
       "      <td>False<\/td>\n",
       "      <td>303.0<\/td>\n",
       "      <td>70.0<\/td>\n",
       "      <td>151.0<\/td>\n",
       "      <td>565.0<\/td>\n",
       "      <td>2.0<\/td>\n",
       "      <td>Willy Santantines<\/td>\n",
       "      <td>True<\/td>\n",
       "    <\/tr>\n",
       "  <\/tbody>\n",
       "<\/table>\n",
       "<\/div>"
      ]
     },
     "metadata":{
      
     },
     "output_type":"display_data"
    }
   ],
   "metadata":{
    "datalore":{
     "node_id":"wjzy6R6DuoENiJZrtbQOHe",
     "type":"CODE",
     "hide_input_from_viewers":true,
     "hide_output_from_viewers":true
    }
   }
  },
  {
   "cell_type":"code",
   "source":[
    "train_data_columns = train_data.columns\n",
    "train_data_columns"
   ],
   "execution_count":114,
   "outputs":[
    {
     "data":{
      "text\/plain":[
       "Index(['PassengerId', 'HomePlanet', 'CryoSleep', 'Cabin', 'Destination', 'Age',\n",
       "       'VIP', 'RoomService', 'FoodCourt', 'ShoppingMall', 'Spa', 'VRDeck',\n",
       "       'Name', 'Transported'],\n",
       "      dtype='object')"
      ]
     },
     "metadata":{
      
     },
     "output_type":"display_data"
    }
   ],
   "metadata":{
    "datalore":{
     "node_id":"eHSDjqhYZJmKCpRX1cWBiX",
     "type":"CODE",
     "hide_input_from_viewers":true,
     "hide_output_from_viewers":true
    }
   }
  },
  {
   "cell_type":"code",
   "source":[
    "train_data.info()"
   ],
   "execution_count":115,
   "outputs":[
    {
     "name":"stdout",
     "text":[
      "<class 'pandas.core.frame.DataFrame'>\n",
      "RangeIndex: 8693 entries, 0 to 8692\n",
      "Data columns (total 14 columns):\n",
      " #   Column        Non-Null Count  Dtype \n",
      "---  ------        --------------  ----- \n",
      " 0   PassengerId   8693 non-null   object\n",
      " 1   HomePlanet    8492 non-null   object\n",
      " 2   CryoSleep     8476 non-null   object\n",
      " 3   Cabin         8494 non-null   object\n",
      " 4   Destination   8511 non-null   object\n",
      " 5   Age           8514 non-null   object\n",
      " 6   VIP           8490 non-null   object\n",
      " 7   RoomService   8512 non-null   object\n",
      " 8   FoodCourt     8510 non-null   object\n",
      " 9   ShoppingMall  8485 non-null   object\n",
      " 10  Spa           8510 non-null   object\n",
      " 11  VRDeck        8505 non-null   object\n",
      " 12  Name          8493 non-null   object\n",
      " 13  Transported   8693 non-null   object\n",
      "dtypes: object(14)\n",
      "memory usage: 950.9+ KB\n"
     ],
     "output_type":"stream"
    }
   ],
   "metadata":{
    "datalore":{
     "node_id":"igL9om2NEjTC0Ug5C3m0Lm",
     "type":"CODE",
     "hide_input_from_viewers":true,
     "hide_output_from_viewers":true
    }
   }
  },
  {
   "cell_type":"code",
   "source":[
    "# ыplitting cabin into deck, cabin number, and side because giving the model so many unique values is not an option\n",
    "train_data['Deck'] = train_data['Cabin'].str.split('\/').str[0]\n",
    "train_data['Num'] = train_data['Cabin'].str.split('\/').str[1]\n",
    "train_data['Side'] = train_data['Cabin'].str.split('\/').str[2]"
   ],
   "execution_count":116,
   "outputs":[
    
   ],
   "metadata":{
    "datalore":{
     "node_id":"dGvoCGRHJeIuB4ljSWqDYR",
     "type":"CODE",
     "hide_input_from_viewers":true,
     "hide_output_from_viewers":true
    }
   }
  },
  {
   "cell_type":"code",
   "source":[
    "train_data.head(5)"
   ],
   "execution_count":117,
   "outputs":[
    {
     "data":{
      "text\/html":[
       "<div>\n",
       "<style scoped>\n",
       "    .dataframe tbody tr th:only-of-type {\n",
       "        vertical-align: middle;\n",
       "    }\n",
       "\n",
       "    .dataframe tbody tr th {\n",
       "        vertical-align: top;\n",
       "    }\n",
       "\n",
       "    .dataframe thead th {\n",
       "        text-align: right;\n",
       "    }\n",
       "<\/style>\n",
       "<table border=\"1\" class=\"dataframe\">\n",
       "  <thead>\n",
       "    <tr style=\"text-align: right;\">\n",
       "      <th><\/th>\n",
       "      <th>PassengerId<\/th>\n",
       "      <th>HomePlanet<\/th>\n",
       "      <th>CryoSleep<\/th>\n",
       "      <th>Cabin<\/th>\n",
       "      <th>Destination<\/th>\n",
       "      <th>Age<\/th>\n",
       "      <th>VIP<\/th>\n",
       "      <th>RoomService<\/th>\n",
       "      <th>FoodCourt<\/th>\n",
       "      <th>ShoppingMall<\/th>\n",
       "      <th>Spa<\/th>\n",
       "      <th>VRDeck<\/th>\n",
       "      <th>Name<\/th>\n",
       "      <th>Transported<\/th>\n",
       "      <th>Deck<\/th>\n",
       "      <th>Num<\/th>\n",
       "      <th>Side<\/th>\n",
       "    <\/tr>\n",
       "  <\/thead>\n",
       "  <tbody>\n",
       "    <tr>\n",
       "      <th>0<\/th>\n",
       "      <td>0001_01<\/td>\n",
       "      <td>Europa<\/td>\n",
       "      <td>False<\/td>\n",
       "      <td>B\/0\/P<\/td>\n",
       "      <td>TRAPPIST-1e<\/td>\n",
       "      <td>39.0<\/td>\n",
       "      <td>False<\/td>\n",
       "      <td>0.0<\/td>\n",
       "      <td>0.0<\/td>\n",
       "      <td>0.0<\/td>\n",
       "      <td>0.0<\/td>\n",
       "      <td>0.0<\/td>\n",
       "      <td>Maham Ofracculy<\/td>\n",
       "      <td>False<\/td>\n",
       "      <td>B<\/td>\n",
       "      <td>0<\/td>\n",
       "      <td>P<\/td>\n",
       "    <\/tr>\n",
       "    <tr>\n",
       "      <th>1<\/th>\n",
       "      <td>0002_01<\/td>\n",
       "      <td>Earth<\/td>\n",
       "      <td>False<\/td>\n",
       "      <td>F\/0\/S<\/td>\n",
       "      <td>TRAPPIST-1e<\/td>\n",
       "      <td>24.0<\/td>\n",
       "      <td>False<\/td>\n",
       "      <td>109.0<\/td>\n",
       "      <td>9.0<\/td>\n",
       "      <td>25.0<\/td>\n",
       "      <td>549.0<\/td>\n",
       "      <td>44.0<\/td>\n",
       "      <td>Juanna Vines<\/td>\n",
       "      <td>True<\/td>\n",
       "      <td>F<\/td>\n",
       "      <td>0<\/td>\n",
       "      <td>S<\/td>\n",
       "    <\/tr>\n",
       "    <tr>\n",
       "      <th>2<\/th>\n",
       "      <td>0003_01<\/td>\n",
       "      <td>Europa<\/td>\n",
       "      <td>False<\/td>\n",
       "      <td>A\/0\/S<\/td>\n",
       "      <td>TRAPPIST-1e<\/td>\n",
       "      <td>58.0<\/td>\n",
       "      <td>True<\/td>\n",
       "      <td>43.0<\/td>\n",
       "      <td>3576.0<\/td>\n",
       "      <td>0.0<\/td>\n",
       "      <td>6715.0<\/td>\n",
       "      <td>49.0<\/td>\n",
       "      <td>Altark Susent<\/td>\n",
       "      <td>False<\/td>\n",
       "      <td>A<\/td>\n",
       "      <td>0<\/td>\n",
       "      <td>S<\/td>\n",
       "    <\/tr>\n",
       "    <tr>\n",
       "      <th>3<\/th>\n",
       "      <td>0003_02<\/td>\n",
       "      <td>Europa<\/td>\n",
       "      <td>False<\/td>\n",
       "      <td>A\/0\/S<\/td>\n",
       "      <td>TRAPPIST-1e<\/td>\n",
       "      <td>33.0<\/td>\n",
       "      <td>False<\/td>\n",
       "      <td>0.0<\/td>\n",
       "      <td>1283.0<\/td>\n",
       "      <td>371.0<\/td>\n",
       "      <td>3329.0<\/td>\n",
       "      <td>193.0<\/td>\n",
       "      <td>Solam Susent<\/td>\n",
       "      <td>False<\/td>\n",
       "      <td>A<\/td>\n",
       "      <td>0<\/td>\n",
       "      <td>S<\/td>\n",
       "    <\/tr>\n",
       "    <tr>\n",
       "      <th>4<\/th>\n",
       "      <td>0004_01<\/td>\n",
       "      <td>Earth<\/td>\n",
       "      <td>False<\/td>\n",
       "      <td>F\/1\/S<\/td>\n",
       "      <td>TRAPPIST-1e<\/td>\n",
       "      <td>16.0<\/td>\n",
       "      <td>False<\/td>\n",
       "      <td>303.0<\/td>\n",
       "      <td>70.0<\/td>\n",
       "      <td>151.0<\/td>\n",
       "      <td>565.0<\/td>\n",
       "      <td>2.0<\/td>\n",
       "      <td>Willy Santantines<\/td>\n",
       "      <td>True<\/td>\n",
       "      <td>F<\/td>\n",
       "      <td>1<\/td>\n",
       "      <td>S<\/td>\n",
       "    <\/tr>\n",
       "  <\/tbody>\n",
       "<\/table>\n",
       "<\/div>"
      ]
     },
     "metadata":{
      
     },
     "output_type":"display_data"
    }
   ],
   "metadata":{
    "datalore":{
     "node_id":"RRvfyE8rFRLztM6wRQruyt",
     "type":"CODE",
     "hide_input_from_viewers":true,
     "hide_output_from_viewers":true
    }
   }
  },
  {
   "cell_type":"markdown",
   "source":[
    "looking for null data"
   ],
   "attachments":{
    
   },
   "metadata":{
    "datalore":{
     "node_id":"PQghS2rGqJ9JQWq0FPJRTf",
     "type":"MD",
     "hide_input_from_viewers":true,
     "hide_output_from_viewers":true
    }
   }
  },
  {
   "cell_type":"code",
   "source":[
    "train_data.isna().sum().reset_index()"
   ],
   "execution_count":118,
   "outputs":[
    {
     "data":{
      "text\/html":[
       "<div>\n",
       "<style scoped>\n",
       "    .dataframe tbody tr th:only-of-type {\n",
       "        vertical-align: middle;\n",
       "    }\n",
       "\n",
       "    .dataframe tbody tr th {\n",
       "        vertical-align: top;\n",
       "    }\n",
       "\n",
       "    .dataframe thead th {\n",
       "        text-align: right;\n",
       "    }\n",
       "<\/style>\n",
       "<table border=\"1\" class=\"dataframe\">\n",
       "  <thead>\n",
       "    <tr style=\"text-align: right;\">\n",
       "      <th><\/th>\n",
       "      <th>index<\/th>\n",
       "      <th>0<\/th>\n",
       "    <\/tr>\n",
       "  <\/thead>\n",
       "  <tbody>\n",
       "    <tr>\n",
       "      <th>0<\/th>\n",
       "      <td>PassengerId<\/td>\n",
       "      <td>0<\/td>\n",
       "    <\/tr>\n",
       "    <tr>\n",
       "      <th>1<\/th>\n",
       "      <td>HomePlanet<\/td>\n",
       "      <td>201<\/td>\n",
       "    <\/tr>\n",
       "    <tr>\n",
       "      <th>2<\/th>\n",
       "      <td>CryoSleep<\/td>\n",
       "      <td>217<\/td>\n",
       "    <\/tr>\n",
       "    <tr>\n",
       "      <th>3<\/th>\n",
       "      <td>Cabin<\/td>\n",
       "      <td>199<\/td>\n",
       "    <\/tr>\n",
       "    <tr>\n",
       "      <th>4<\/th>\n",
       "      <td>Destination<\/td>\n",
       "      <td>182<\/td>\n",
       "    <\/tr>\n",
       "    <tr>\n",
       "      <th>5<\/th>\n",
       "      <td>Age<\/td>\n",
       "      <td>179<\/td>\n",
       "    <\/tr>\n",
       "    <tr>\n",
       "      <th>6<\/th>\n",
       "      <td>VIP<\/td>\n",
       "      <td>203<\/td>\n",
       "    <\/tr>\n",
       "    <tr>\n",
       "      <th>7<\/th>\n",
       "      <td>RoomService<\/td>\n",
       "      <td>181<\/td>\n",
       "    <\/tr>\n",
       "    <tr>\n",
       "      <th>8<\/th>\n",
       "      <td>FoodCourt<\/td>\n",
       "      <td>183<\/td>\n",
       "    <\/tr>\n",
       "    <tr>\n",
       "      <th>9<\/th>\n",
       "      <td>ShoppingMall<\/td>\n",
       "      <td>208<\/td>\n",
       "    <\/tr>\n",
       "    <tr>\n",
       "      <th>10<\/th>\n",
       "      <td>Spa<\/td>\n",
       "      <td>183<\/td>\n",
       "    <\/tr>\n",
       "    <tr>\n",
       "      <th>11<\/th>\n",
       "      <td>VRDeck<\/td>\n",
       "      <td>188<\/td>\n",
       "    <\/tr>\n",
       "    <tr>\n",
       "      <th>12<\/th>\n",
       "      <td>Name<\/td>\n",
       "      <td>200<\/td>\n",
       "    <\/tr>\n",
       "    <tr>\n",
       "      <th>13<\/th>\n",
       "      <td>Transported<\/td>\n",
       "      <td>0<\/td>\n",
       "    <\/tr>\n",
       "    <tr>\n",
       "      <th>14<\/th>\n",
       "      <td>Deck<\/td>\n",
       "      <td>199<\/td>\n",
       "    <\/tr>\n",
       "    <tr>\n",
       "      <th>15<\/th>\n",
       "      <td>Num<\/td>\n",
       "      <td>199<\/td>\n",
       "    <\/tr>\n",
       "    <tr>\n",
       "      <th>16<\/th>\n",
       "      <td>Side<\/td>\n",
       "      <td>199<\/td>\n",
       "    <\/tr>\n",
       "  <\/tbody>\n",
       "<\/table>\n",
       "<\/div>"
      ]
     },
     "metadata":{
      
     },
     "output_type":"display_data"
    }
   ],
   "metadata":{
    "datalore":{
     "node_id":"3nqiQkRaGfknOMpsYJ2TPG",
     "type":"CODE",
     "hide_input_from_viewers":true,
     "hide_output_from_viewers":true
    }
   }
  },
  {
   "cell_type":"markdown",
   "source":[
    "replacing null data "
   ],
   "attachments":{
    
   },
   "metadata":{
    "datalore":{
     "node_id":"X8I6svjJjACUqHGlY3K4xA",
     "type":"MD",
     "hide_input_from_viewers":true,
     "hide_output_from_viewers":true
    }
   }
  },
  {
   "cell_type":"code",
   "source":[
    "train_data['HomePlanet'].fillna('Unknown', inplace=True) # we are giving a new planet like unknown because in fact we do not know avout that and model can use it somehow\n",
    "\n",
    "train_data['CryoSleep'].fillna('False', inplace=True) # there we are filling nan data with False bacuse proportion of True\/False in whole data is 0.35\/0.64\n",
    "\n",
    "train_data['Destination'].fillna('TRAPPIST-1e', inplace=True) # так как почти 70% пассажиров летели туда то логично просто взять этот destination\n",
    "\n",
    "train_data['Age'].fillna(train_data['Age'].median(), inplace=True) # filling nan data with median age\n",
    "\n",
    "train_data['VIP'].fillna('False', inplace=True) # filling with the mode(False)\n",
    "\n",
    "spending_columns = ['RoomService', 'FoodCourt', 'ShoppingMall', 'Spa', 'VRDeck']\n",
    "for col in spending_columns:\n",
    "    train_data[col].fillna(0, inplace=True) # filling all spending with 0 because we have no data that they spend some money\n",
    "\n",
    "train_data['Name'].fillna('Name', inplace=True) \n",
    "\n",
    "train_data['Deck'].fillna('Unknown', inplace=True)\n",
    "\n",
    "train_data['Side'].fillna('Unknown', inplace=True)"
   ],
   "execution_count":119,
   "outputs":[
    
   ],
   "metadata":{
    "datalore":{
     "node_id":"ntxq3wiHH2Uao9qPIqE22w",
     "type":"CODE",
     "hide_input_from_viewers":true,
     "hide_output_from_viewers":true
    }
   }
  },
  {
   "cell_type":"code",
   "source":[
    "train_data.drop(['Cabin', 'Num', 'Name', 'PassengerId'], axis=1, inplace=True) # we are deleting the colums in which every data is unique"
   ],
   "execution_count":120,
   "outputs":[
    
   ],
   "metadata":{
    "datalore":{
     "node_id":"AHcZyJbhmlyCrJCvdCCsPI",
     "type":"CODE",
     "hide_input_from_viewers":true,
     "hide_output_from_viewers":true
    }
   }
  },
  {
   "cell_type":"code",
   "source":[
    "train_data.columns"
   ],
   "execution_count":121,
   "outputs":[
    {
     "data":{
      "text\/plain":[
       "Index(['HomePlanet', 'CryoSleep', 'Destination', 'Age', 'VIP', 'RoomService',\n",
       "       'FoodCourt', 'ShoppingMall', 'Spa', 'VRDeck', 'Transported', 'Deck',\n",
       "       'Side'],\n",
       "      dtype='object')"
      ]
     },
     "metadata":{
      
     },
     "output_type":"display_data"
    }
   ],
   "metadata":{
    "datalore":{
     "node_id":"F2qvFtF1qt6M5xTxaIhWkI",
     "type":"CODE",
     "hide_input_from_viewers":true,
     "hide_output_from_viewers":true
    }
   }
  },
  {
   "cell_type":"markdown",
   "source":[
    "now there is no null data"
   ],
   "attachments":{
    
   },
   "metadata":{
    "datalore":{
     "node_id":"or9hIlIky7CRSdkJgA5MX1",
     "type":"MD",
     "hide_input_from_viewers":true,
     "hide_output_from_viewers":true
    }
   }
  },
  {
   "cell_type":"code",
   "source":[
    "train_data.isna().sum()"
   ],
   "execution_count":122,
   "outputs":[
    {
     "data":{
      "text\/html":[
       "<pre>HomePlanet      0\n",
       "CryoSleep       0\n",
       "Destination     0\n",
       "Age             0\n",
       "VIP             0\n",
       "RoomService     0\n",
       "FoodCourt       0\n",
       "ShoppingMall    0\n",
       "Spa             0\n",
       "VRDeck          0\n",
       "Transported     0\n",
       "Deck            0\n",
       "Side            0\n",
       "dtype: int64<\/pre>"
      ]
     },
     "metadata":{
      
     },
     "output_type":"display_data"
    }
   ],
   "metadata":{
    "datalore":{
     "node_id":"usIHaP8ygLsmZtHNrdjYFP",
     "type":"CODE",
     "hide_input_from_viewers":true,
     "hide_output_from_viewers":true
    }
   }
  },
  {
   "cell_type":"markdown",
   "source":[
    "working with types of data, because most of models can work only with number types"
   ],
   "attachments":{
    
   },
   "metadata":{
    "datalore":{
     "node_id":"oz90xmQsvbOvUFijo8Wg1c",
     "type":"MD",
     "hide_input_from_viewers":true,
     "hide_output_from_viewers":true
    }
   }
  },
  {
   "cell_type":"code",
   "source":[
    "numeric_colums = ['Age', 'RoomService', 'FoodCourt', 'ShoppingMall', 'Spa', 'VRDeck']\n",
    "for i in numeric_colums:\n",
    "    train_data[i] = pd.to_numeric(train_data[i], errors='coerce')"
   ],
   "execution_count":123,
   "outputs":[
    
   ],
   "metadata":{
    "datalore":{
     "node_id":"rgCFPpV49WTKOCl6MIeIuz",
     "type":"CODE",
     "hide_input_from_viewers":true,
     "hide_output_from_viewers":true
    }
   }
  },
  {
   "cell_type":"code",
   "source":[
    "train_data['CryoSleep'] = train_data['CryoSleep'].map({'True': True, 'False': False})\n",
    "train_data['VIP'] = train_data['VIP'].map({'True': True, 'False': False})\n",
    "train_data['Transported'] = train_data['Transported'].map({'True': True, 'False': False})"
   ],
   "execution_count":124,
   "outputs":[
    
   ],
   "metadata":{
    "datalore":{
     "node_id":"po7APEU2MXo1oDzZKFb69s",
     "type":"CODE",
     "hide_input_from_viewers":true,
     "hide_output_from_viewers":true
    }
   }
  },
  {
   "cell_type":"code",
   "source":[
    "train_data.dtypes.reset_index()"
   ],
   "execution_count":125,
   "outputs":[
    {
     "data":{
      "text\/html":[
       "<div>\n",
       "<style scoped>\n",
       "    .dataframe tbody tr th:only-of-type {\n",
       "        vertical-align: middle;\n",
       "    }\n",
       "\n",
       "    .dataframe tbody tr th {\n",
       "        vertical-align: top;\n",
       "    }\n",
       "\n",
       "    .dataframe thead th {\n",
       "        text-align: right;\n",
       "    }\n",
       "<\/style>\n",
       "<table border=\"1\" class=\"dataframe\">\n",
       "  <thead>\n",
       "    <tr style=\"text-align: right;\">\n",
       "      <th><\/th>\n",
       "      <th>index<\/th>\n",
       "      <th>0<\/th>\n",
       "    <\/tr>\n",
       "  <\/thead>\n",
       "  <tbody>\n",
       "    <tr>\n",
       "      <th>0<\/th>\n",
       "      <td>HomePlanet<\/td>\n",
       "      <td>object<\/td>\n",
       "    <\/tr>\n",
       "    <tr>\n",
       "      <th>1<\/th>\n",
       "      <td>CryoSleep<\/td>\n",
       "      <td>bool<\/td>\n",
       "    <\/tr>\n",
       "    <tr>\n",
       "      <th>2<\/th>\n",
       "      <td>Destination<\/td>\n",
       "      <td>object<\/td>\n",
       "    <\/tr>\n",
       "    <tr>\n",
       "      <th>3<\/th>\n",
       "      <td>Age<\/td>\n",
       "      <td>float64<\/td>\n",
       "    <\/tr>\n",
       "    <tr>\n",
       "      <th>4<\/th>\n",
       "      <td>VIP<\/td>\n",
       "      <td>bool<\/td>\n",
       "    <\/tr>\n",
       "    <tr>\n",
       "      <th>5<\/th>\n",
       "      <td>RoomService<\/td>\n",
       "      <td>float64<\/td>\n",
       "    <\/tr>\n",
       "    <tr>\n",
       "      <th>6<\/th>\n",
       "      <td>FoodCourt<\/td>\n",
       "      <td>float64<\/td>\n",
       "    <\/tr>\n",
       "    <tr>\n",
       "      <th>7<\/th>\n",
       "      <td>ShoppingMall<\/td>\n",
       "      <td>float64<\/td>\n",
       "    <\/tr>\n",
       "    <tr>\n",
       "      <th>8<\/th>\n",
       "      <td>Spa<\/td>\n",
       "      <td>float64<\/td>\n",
       "    <\/tr>\n",
       "    <tr>\n",
       "      <th>9<\/th>\n",
       "      <td>VRDeck<\/td>\n",
       "      <td>float64<\/td>\n",
       "    <\/tr>\n",
       "    <tr>\n",
       "      <th>10<\/th>\n",
       "      <td>Transported<\/td>\n",
       "      <td>bool<\/td>\n",
       "    <\/tr>\n",
       "    <tr>\n",
       "      <th>11<\/th>\n",
       "      <td>Deck<\/td>\n",
       "      <td>object<\/td>\n",
       "    <\/tr>\n",
       "    <tr>\n",
       "      <th>12<\/th>\n",
       "      <td>Side<\/td>\n",
       "      <td>object<\/td>\n",
       "    <\/tr>\n",
       "  <\/tbody>\n",
       "<\/table>\n",
       "<\/div>"
      ]
     },
     "metadata":{
      
     },
     "output_type":"display_data"
    }
   ],
   "metadata":{
    "datalore":{
     "node_id":"qZJj0ZoXSRLkuZyvBAFtHt",
     "type":"CODE",
     "hide_input_from_viewers":true,
     "hide_output_from_viewers":true
    }
   }
  },
  {
   "cell_type":"markdown",
   "source":[
    "encoding columns with type - object"
   ],
   "attachments":{
    
   },
   "metadata":{
    "datalore":{
     "node_id":"SGphGqFfZMajgmf2sMtM1f",
     "type":"MD",
     "hide_input_from_viewers":true,
     "hide_output_from_viewers":true
    }
   }
  },
  {
   "cell_type":"code",
   "source":[
    "train_data = pd.get_dummies(train_data, columns=['HomePlanet', 'Destination', 'Deck', 'Side'], drop_first=True)"
   ],
   "execution_count":126,
   "outputs":[
    
   ],
   "metadata":{
    "datalore":{
     "node_id":"tYFtC62JLxNntFiowxt7vU",
     "type":"CODE",
     "hide_input_from_viewers":true,
     "hide_output_from_viewers":true
    }
   }
  },
  {
   "cell_type":"code",
   "source":[
    "# boolen type making into int\n",
    "train_data['CryoSleep'] = train_data['CryoSleep'].astype(int)\n",
    "train_data['VIP'] = train_data['VIP'].astype(int)\n",
    "train_data['Transported'] = train_data['Transported'].astype(int)"
   ],
   "execution_count":127,
   "outputs":[
    
   ],
   "metadata":{
    "datalore":{
     "node_id":"3TDCkXnIPG0XRGx4bgpFAN",
     "type":"CODE",
     "hide_input_from_viewers":true,
     "hide_output_from_viewers":true
    }
   }
  },
  {
   "cell_type":"code",
   "source":[
    "train_data.dtypes.reset_index()"
   ],
   "execution_count":128,
   "outputs":[
    {
     "data":{
      "text\/html":[
       "<div>\n",
       "<style scoped>\n",
       "    .dataframe tbody tr th:only-of-type {\n",
       "        vertical-align: middle;\n",
       "    }\n",
       "\n",
       "    .dataframe tbody tr th {\n",
       "        vertical-align: top;\n",
       "    }\n",
       "\n",
       "    .dataframe thead th {\n",
       "        text-align: right;\n",
       "    }\n",
       "<\/style>\n",
       "<table border=\"1\" class=\"dataframe\">\n",
       "  <thead>\n",
       "    <tr style=\"text-align: right;\">\n",
       "      <th><\/th>\n",
       "      <th>index<\/th>\n",
       "      <th>0<\/th>\n",
       "    <\/tr>\n",
       "  <\/thead>\n",
       "  <tbody>\n",
       "    <tr>\n",
       "      <th>0<\/th>\n",
       "      <td>CryoSleep<\/td>\n",
       "      <td>int64<\/td>\n",
       "    <\/tr>\n",
       "    <tr>\n",
       "      <th>1<\/th>\n",
       "      <td>Age<\/td>\n",
       "      <td>float64<\/td>\n",
       "    <\/tr>\n",
       "    <tr>\n",
       "      <th>2<\/th>\n",
       "      <td>VIP<\/td>\n",
       "      <td>int64<\/td>\n",
       "    <\/tr>\n",
       "    <tr>\n",
       "      <th>3<\/th>\n",
       "      <td>RoomService<\/td>\n",
       "      <td>float64<\/td>\n",
       "    <\/tr>\n",
       "    <tr>\n",
       "      <th>4<\/th>\n",
       "      <td>FoodCourt<\/td>\n",
       "      <td>float64<\/td>\n",
       "    <\/tr>\n",
       "    <tr>\n",
       "      <th>5<\/th>\n",
       "      <td>ShoppingMall<\/td>\n",
       "      <td>float64<\/td>\n",
       "    <\/tr>\n",
       "    <tr>\n",
       "      <th>6<\/th>\n",
       "      <td>Spa<\/td>\n",
       "      <td>float64<\/td>\n",
       "    <\/tr>\n",
       "    <tr>\n",
       "      <th>7<\/th>\n",
       "      <td>VRDeck<\/td>\n",
       "      <td>float64<\/td>\n",
       "    <\/tr>\n",
       "    <tr>\n",
       "      <th>8<\/th>\n",
       "      <td>Transported<\/td>\n",
       "      <td>int64<\/td>\n",
       "    <\/tr>\n",
       "    <tr>\n",
       "      <th>9<\/th>\n",
       "      <td>HomePlanet_Europa<\/td>\n",
       "      <td>uint8<\/td>\n",
       "    <\/tr>\n",
       "    <tr>\n",
       "      <th>10<\/th>\n",
       "      <td>HomePlanet_Mars<\/td>\n",
       "      <td>uint8<\/td>\n",
       "    <\/tr>\n",
       "    <tr>\n",
       "      <th>11<\/th>\n",
       "      <td>HomePlanet_Unknown<\/td>\n",
       "      <td>uint8<\/td>\n",
       "    <\/tr>\n",
       "    <tr>\n",
       "      <th>12<\/th>\n",
       "      <td>Destination_PSO J318.5-22<\/td>\n",
       "      <td>uint8<\/td>\n",
       "    <\/tr>\n",
       "    <tr>\n",
       "      <th>13<\/th>\n",
       "      <td>Destination_TRAPPIST-1e<\/td>\n",
       "      <td>uint8<\/td>\n",
       "    <\/tr>\n",
       "    <tr>\n",
       "      <th>14<\/th>\n",
       "      <td>Deck_B<\/td>\n",
       "      <td>uint8<\/td>\n",
       "    <\/tr>\n",
       "    <tr>\n",
       "      <th>15<\/th>\n",
       "      <td>Deck_C<\/td>\n",
       "      <td>uint8<\/td>\n",
       "    <\/tr>\n",
       "    <tr>\n",
       "      <th>16<\/th>\n",
       "      <td>Deck_D<\/td>\n",
       "      <td>uint8<\/td>\n",
       "    <\/tr>\n",
       "    <tr>\n",
       "      <th>17<\/th>\n",
       "      <td>Deck_E<\/td>\n",
       "      <td>uint8<\/td>\n",
       "    <\/tr>\n",
       "    <tr>\n",
       "      <th>18<\/th>\n",
       "      <td>Deck_F<\/td>\n",
       "      <td>uint8<\/td>\n",
       "    <\/tr>\n",
       "    <tr>\n",
       "      <th>19<\/th>\n",
       "      <td>Deck_G<\/td>\n",
       "      <td>uint8<\/td>\n",
       "    <\/tr>\n",
       "    <tr>\n",
       "      <th>20<\/th>\n",
       "      <td>Deck_T<\/td>\n",
       "      <td>uint8<\/td>\n",
       "    <\/tr>\n",
       "    <tr>\n",
       "      <th>21<\/th>\n",
       "      <td>Deck_Unknown<\/td>\n",
       "      <td>uint8<\/td>\n",
       "    <\/tr>\n",
       "    <tr>\n",
       "      <th>22<\/th>\n",
       "      <td>Side_S<\/td>\n",
       "      <td>uint8<\/td>\n",
       "    <\/tr>\n",
       "    <tr>\n",
       "      <th>23<\/th>\n",
       "      <td>Side_Unknown<\/td>\n",
       "      <td>uint8<\/td>\n",
       "    <\/tr>\n",
       "  <\/tbody>\n",
       "<\/table>\n",
       "<\/div>"
      ]
     },
     "metadata":{
      
     },
     "output_type":"display_data"
    }
   ],
   "metadata":{
    "datalore":{
     "node_id":"TNaHHlMf4GHXAWQ4HEgY7A",
     "type":"CODE",
     "hide_input_from_viewers":true,
     "hide_output_from_viewers":true
    }
   }
  },
  {
   "cell_type":"markdown",
   "source":[
    "and now we have look for correlation between columns and leave only good features in order to overcome the potential 'noise'"
   ],
   "attachments":{
    
   },
   "metadata":{
    "datalore":{
     "node_id":"p7lgVUyCgKVkpfa0aNpAUK",
     "type":"MD",
     "hide_input_from_viewers":true,
     "hide_output_from_viewers":true
    }
   }
  },
  {
   "cell_type":"code",
   "source":[
    "correlations = train_data.corr()['Transported'].drop('Transported').sort_values(ascending=False)\n",
    "\n",
    "plt.figure(figsize=(16, 14))\n",
    "sns.heatmap(train_data.corr(), annot=True, cmap='RdYlGn', fmt='.2f', \n",
    "            center=0, linewidths=0.5, cbar_kws={\"shrink\": 0.8})\n",
    "plt.title('Correlation Matrix')\n",
    "plt.tight_layout()\n",
    "plt.show()"
   ],
   "execution_count":129,
   "outputs":[
    {
     "data":{
      "image\/png":"[encoded data removed]"
     },
     "metadata":{
      "image\/png":{
       
      }
     },
     "output_type":"display_data"
    }
   ],
   "metadata":{
    "datalore":{
     "node_id":"TLz3B6KqgPdS3lgpho3eCk",
     "type":"CODE",
     "hide_input_from_viewers":true,
     "hide_output_from_viewers":true
    }
   }
  },
  {
   "cell_type":"code",
   "source":[
    "correlations = train_data.corr()['Transported'].drop('Transported').sort_values(ascending=False)\n",
    "\n",
    "plt.figure(figsize=(10, 8))\n",
    "sns.barplot(x=correlations.values, y=correlations.index)\n",
    "plt.title('Feature Correlation with Transported')\n",
    "plt.xlabel('Correlation')\n",
    "plt.show()"
   ],
   "execution_count":130,
   "outputs":[
    {
     "data":{
      "image\/png":"[encoded data removed]"
     },
     "metadata":{
      "image\/png":{
       
      }
     },
     "output_type":"display_data"
    }
   ],
   "metadata":{
    "datalore":{
     "node_id":"bRtCZAZ2xJdwRMWIjQc5Rn",
     "type":"CODE",
     "hide_input_from_viewers":true,
     "hide_output_from_viewers":true
    }
   }
  },
  {
   "cell_type":"markdown",
   "source":[
    "now we have to divide out train data to x(features) and y(target)"
   ],
   "attachments":{
    
   },
   "metadata":{
    "datalore":{
     "node_id":"vEmjcy7scTIJeszpPsx2z7",
     "type":"MD",
     "hide_input_from_viewers":true,
     "hide_output_from_viewers":true
    }
   }
  },
  {
   "cell_type":"code",
   "source":[
    "X = train_data.drop('Transported', axis=1) # features\n",
    "y = train_data['Transported']         # target"
   ],
   "execution_count":131,
   "outputs":[
    
   ],
   "metadata":{
    "datalore":{
     "node_id":"doXJKjbx1DZ0jCiC1PR9AE",
     "type":"CODE",
     "hide_input_from_viewers":true,
     "hide_output_from_viewers":true
    }
   }
  },
  {
   "cell_type":"code",
   "source":[
    "# checking what we got\n",
    "print(f\"X shape: {X.shape}\")\n",
    "print(f\"y shape: {y.shape}\")"
   ],
   "execution_count":132,
   "outputs":[
    {
     "name":"stdout",
     "text":[
      "X shape: (8693, 23)\n",
      "y shape: (8693,)\n"
     ],
     "output_type":"stream"
    }
   ],
   "metadata":{
    "datalore":{
     "node_id":"CumRMIMOjdgyYlRI6pQKjs",
     "type":"CODE",
     "hide_input_from_viewers":true,
     "hide_output_from_viewers":true
    }
   }
  },
  {
   "cell_type":"markdown",
   "source":[
    "now we divide out train data to \"training data\" and validation data(in order to check if our model works good with unfamiliar data)"
   ],
   "attachments":{
    
   },
   "metadata":{
    "datalore":{
     "node_id":"cZ2F3aOrhMKxhaF6yHfbA4",
     "type":"MD",
     "hide_input_from_viewers":true,
     "hide_output_from_viewers":true
    }
   }
  },
  {
   "cell_type":"code",
   "source":[
    "from sklearn.model_selection import train_test_split\n",
    "\n",
    "# splitting 80% for studying and 20% fr validation\n",
    "X_train, X_val, y_train, y_val = train_test_split(\n",
    "    X, y,\n",
    "    test_size=0.2, # 20% for validation\n",
    "    random_state=42\n",
    ")\n",
    "\n",
    "# checking splitting\n",
    "print(f\"X_train shape: {X_train.shape}\")\n",
    "print(f\"X_val shape: {X_val.shape}\")\n",
    "print(f\"y_train shape: {y_train.shape}\")\n",
    "print(f\"y_val shape: {y_val.shape}\")"
   ],
   "execution_count":133,
   "outputs":[
    {
     "name":"stdout",
     "text":[
      "X_train shape: (6954, 23)\n",
      "X_val shape: (1739, 23)\n",
      "y_train shape: (6954,)\n",
      "y_val shape: (1739,)\n"
     ],
     "output_type":"stream"
    }
   ],
   "metadata":{
    "datalore":{
     "node_id":"iLW5CpMgsbRNkfn2GEwsm3",
     "type":"CODE",
     "hide_input_from_viewers":true,
     "hide_output_from_viewers":true
    }
   }
  },
  {
   "cell_type":"code",
   "source":[
    "param_grid_fr_1 = {\n",
    "    'n_estimators': [50, 100, 150, 250],\n",
    "    'max_depth': [8, 12, 15, 18],\n",
    "}\n",
    "\n",
    "# creating GridSearch\n",
    "grid_search_fr_1 = GridSearchCV(\n",
    "    RandomForestClassifier(random_state=42),\n",
    "    param_grid_fr_1,\n",
    "    cv=5,\n",
    "    scoring='accuracy',\n",
    "    verbose=1\n",
    ")\n",
    "\n",
    "# training model\n",
    "print(\"Searching for best parameters...\")\n",
    "grid_search_fr_1.fit(X_train, y_train)\n",
    "\n",
    "# best parameters \n",
    "print(f\"\\nBest parameters: {grid_search_fr_1.best_params_}\")\n",
    "print(f\"Best cross-validation score: {grid_search_fr_1.best_score_:.4f}\")"
   ],
   "execution_count":134,
   "outputs":[
    {
     "name":"stdout",
     "text":[
      "Searching for best parameters...\n",
      "Fitting 5 folds for each of 16 candidates, totalling 80 fits\n",
      "\n",
      "Best parameters: {'max_depth': 12, 'n_estimators': 250}\n",
      "Best cross-validation score: 0.8041\n"
     ],
     "output_type":"stream"
    }
   ],
   "metadata":{
    "datalore":{
     "node_id":"7zziDcLwa1KJRPgYb3LxbE",
     "type":"CODE",
     "hide_input_from_viewers":true,
     "hide_output_from_viewers":true
    }
   }
  },
  {
   "cell_type":"code",
   "source":[
    "model_rf = RandomForestClassifier(\n",
    "    n_estimators=200 ,\n",
    "    max_depth=12 ,\n",
    "    max_features='sqrt',\n",
    "    random_state=42\n",
    ")\n",
    "\n",
    "# training model with trainig data\n",
    "print(\"training model\")\n",
    "model_rf.fit(X_train, y_train)\n",
    "print(\"model trained\")\n",
    "\n",
    "# checking accuracy on train data\n",
    "train_accuracy = model_rf.score(X_train, y_train)\n",
    "print(f\"model accuracy on train: {train_accuracy:.4f}\")\n",
    "\n",
    "# checking model accuracy on validation data\n",
    "val_accuracy = model_rf.score(X_val, y_val)\n",
    "print(f\"model accuracy on validation data: {val_accuracy:.4f}\")"
   ],
   "execution_count":141,
   "outputs":[
    {
     "name":"stdout",
     "text":[
      "training model\n",
      "model trained\n",
      "model accuracy on train: 0.8863\n",
      "model accuracy on validation data: 0.7930\n"
     ],
     "output_type":"stream"
    }
   ],
   "metadata":{
    "datalore":{
     "node_id":"0FGyPYR24hp6iwLmsfxRQr",
     "type":"CODE",
     "hide_input_from_viewers":true,
     "hide_output_from_viewers":true
    }
   }
  },
  {
   "cell_type":"markdown",
   "source":[
    "we try a XGBoost"
   ],
   "attachments":{
    
   },
   "metadata":{
    "datalore":{
     "node_id":"o0mB7i6mG0jP2FSafnWiwF",
     "type":"MD",
     "hide_input_from_viewers":true,
     "hide_output_from_viewers":true
    }
   }
  },
  {
   "cell_type":"code",
   "source":[
    "!pip install xgboost\n",
    "\n",
    "from xgboost import XGBClassifier"
   ],
   "execution_count":136,
   "outputs":[
    {
     "name":"stdout",
     "text":[
      "Requirement already satisfied: xgboost in \/opt\/python\/envs\/minimal\/lib\/python3.8\/site-packages (2.1.4)\r\n",
      "Requirement already satisfied: numpy in \/opt\/python\/envs\/minimal\/lib\/python3.8\/site-packages (from xgboost) (1.24.3)\r\n",
      "Requirement already satisfied: nvidia-nccl-cu12 in \/opt\/python\/envs\/minimal\/lib\/python3.8\/site-packages (from xgboost) (2.28.7)\r\n",
      "Requirement already satisfied: scipy in \/opt\/python\/envs\/minimal\/lib\/python3.8\/site-packages (from xgboost) (1.9.1)\r\n",
      "\r\n",
      "\u001b[1m[\u001b[0m\u001b[34;49mnotice\u001b[0m\u001b[1;39;49m]\u001b[0m\u001b[39;49m A new release of pip is available: \u001b[0m\u001b[31;49m23.1.2\u001b[0m\u001b[39;49m -> \u001b[0m\u001b[32;49m25.0.1\u001b[0m\r\n",
      "\u001b[1m[\u001b[0m\u001b[34;49mnotice\u001b[0m\u001b[1;39;49m]\u001b[0m\u001b[39;49m To update, run: \u001b[0m\u001b[32;49mpip install --upgrade pip\u001b[0m\r\n"
     ],
     "output_type":"stream"
    }
   ],
   "metadata":{
    "datalore":{
     "node_id":"SGn5iMuXU854weHQHCzqk4",
     "type":"CODE",
     "hide_input_from_viewers":true,
     "hide_output_from_viewers":true
    }
   }
  },
  {
   "cell_type":"code",
   "source":[
    "param_grid_x_1 = {\n",
    "    'n_estimators': [50, 100, 200, 500],\n",
    "    'max_depth': [10, 30, 50],\n",
    "    'learning_rate': [0.1, 0.3]\n",
    "} \n",
    "\n",
    "grid_search_xgb = GridSearchCV(\n",
    "    XGBClassifier(random_state=42, eval_metric='logloss'), \n",
    "    param_grid_x_1,  \n",
    "    cv=5,\n",
    "    scoring='accuracy',\n",
    "    verbose=1,\n",
    "    n_jobs=-1\n",
    ")\n",
    "\n",
    "print(\"training model started\")\n",
    "grid_search_xgb.fit(X_train, y_train)\n",
    "\n",
    "print(f\"\\nBest parameters: {grid_search_xgb.best_params_}\") \n",
    "print(f\"Best cross-validation score: {grid_search_xgb.best_score_:.4f}\")"
   ],
   "execution_count":137,
   "outputs":[
    {
     "name":"stdout",
     "text":[
      "training model started\n",
      "Fitting 5 folds for each of 24 candidates, totalling 120 fits\n",
      "\n",
      "Best parameters: {'learning_rate': 0.1, 'max_depth': 10, 'n_estimators': 100}\n",
      "Best cross-validation score: 0.8028\n"
     ],
     "output_type":"stream"
    }
   ],
   "metadata":{
    "datalore":{
     "node_id":"nWC9t5byuq8otS3vfCCFQo",
     "type":"CODE",
     "hide_input_from_viewers":true,
     "hide_output_from_viewers":true
    }
   }
  },
  {
   "cell_type":"code",
   "source":[
    "# now we train our model with best parameters\n",
    "model_xgb = XGBClassifier(\n",
    "    n_estimators=200,       \n",
    "    max_depth=9,        \n",
    "    learning_rate=0.1,    \n",
    "    min_child_weight=3, \n",
    "    colsample_bytree=0.8,    \n",
    "    random_state=42\n",
    ")\n",
    "\n",
    "print(\"training XGBoost model...\")\n",
    "model_xgb.fit(X_train, y_train)\n",
    "print(\"model trained\")\n",
    "\n",
    "train_accuracy_xgb = model_xgb.score(X_train, y_train)\n",
    "print(f\"XGBoost accuracy on train: {train_accuracy_xgb:.4f}\")\n",
    "\n",
    "val_accuracy_xgb = model_xgb.score(X_val, y_val)\n",
    "print(f\"XGBoost accuracy on validation: {val_accuracy_xgb:.4f}\")\n",
    "\n",
    "overfitting_xgb = train_accuracy_xgb - val_accuracy_xgb\n",
    "print(f\"Overfitting: {overfitting_xgb:.4f}\")"
   ],
   "execution_count":138,
   "outputs":[
    {
     "name":"stdout",
     "text":[
      "training XGBoost model...\n",
      "model trained\n",
      "XGBoost accuracy on train: 0.9058\n",
      "XGBoost accuracy on validation: 0.7953\n",
      "Overfitting: 0.1105\n"
     ],
     "output_type":"stream"
    }
   ],
   "metadata":{
    "datalore":{
     "node_id":"cEZtHbGqKislMpmcAV0vD2",
     "type":"CODE",
     "hide_input_from_viewers":true,
     "hide_output_from_viewers":true
    }
   }
  },
  {
   "cell_type":"code",
   "source":[
    "# data processing as we done with train data\n",
    "\n",
    "passenger_ids = test_data['PassengerId'].copy()\n",
    "\n",
    "test_data['Deck'] = test_data['Cabin'].str.split('\/').str[0]\n",
    "test_data['Num'] = test_data['Cabin'].str.split('\/').str[1]\n",
    "test_data['Side'] = test_data['Cabin'].str.split('\/').str[2]\n",
    "\n",
    "test_data['HomePlanet'].fillna('Unknown', inplace=True)\n",
    "test_data['CryoSleep'].fillna('False', inplace=True)\n",
    "test_data['Destination'].fillna('TRAPPIST-1e', inplace=True)\n",
    "test_data['Age'].fillna(test_data['Age'].median(), inplace=True)\n",
    "test_data['VIP'].fillna('False', inplace=True)\n",
    "\n",
    "spending_columns = ['RoomService', 'FoodCourt', 'ShoppingMall', 'Spa', 'VRDeck']\n",
    "for col in spending_columns:\n",
    "    test_data[col].fillna(0, inplace=True)\n",
    "\n",
    "test_data['Name'].fillna('Name', inplace=True)\n",
    "test_data['Deck'].fillna('Unknown', inplace=True)\n",
    "test_data['Side'].fillna('Unknown', inplace=True)\n",
    "\n",
    "test_data.drop(['Cabin', 'Num', 'Name', 'PassengerId'], axis=1, inplace=True)\n",
    "\n",
    "numeric_columns = ['Age', 'RoomService', 'FoodCourt', 'ShoppingMall', 'Spa', 'VRDeck']\n",
    "for i in numeric_columns:\n",
    "    test_data[i] = pd.to_numeric(test_data[i], errors='coerce')\n",
    "\n",
    "test_data['CryoSleep'] = test_data['CryoSleep'].map({'True': True, 'False': False})\n",
    "test_data['VIP'] = test_data['VIP'].map({'True': True, 'False': False})\n",
    "\n",
    "test_data = pd.get_dummies(test_data, columns=['HomePlanet', 'Destination', 'Deck', 'Side'], drop_first=True)\n",
    "\n",
    "test_data['CryoSleep'] = test_data['CryoSleep'].astype(int)\n",
    "test_data['VIP'] = test_data['VIP'].astype(int)\n",
    "\n",
    "train_columns = [col for col in train_data.columns if col != 'Transported']\n",
    "\n",
    "for col in train_columns:\n",
    "    if col not in test_data.columns:\n",
    "        test_data[col] = 0\n",
    "\n",
    "test_data = test_data[train_columns]\n",
    "\n",
    "print(\"Test data preprocessing complete!\")\n",
    "print(f\"Test data shape: {test_data.shape}\")\n",
    "\n",
    "# prediciton\n",
    "\n",
    "predictions_rf = model_rf.predict(test_data)\n",
    "print(f\"\\nRandom Forest predictions done! Total: {len(predictions_rf)}\")\n",
    "\n",
    "predictions_xgb = model_xgb.predict(test_data)\n",
    "print(f\"XGBoost predictions done! Total: {len(predictions_xgb)}\")\n",
    "\n",
    "# submission files\n",
    "\n",
    "submission_rf = pd.DataFrame({\n",
    "    'PassengerId': passenger_ids,\n",
    "    'Transported': predictions_rf.astype(bool)\n",
    "})\n",
    "submission_rf.to_csv('submission_rf.csv', index=False)\n",
    "print(\"submission_rf.csv created\")\n",
    "\n",
    "submission_xgb = pd.DataFrame({\n",
    "    'PassengerId': passenger_ids,\n",
    "    'Transported': predictions_xgb.astype(bool)\n",
    "})\n",
    "submission_xgb.to_csv('submission_xgb.csv', index=False)\n",
    "print(\"submission_xgb.csv created\")"
   ],
   "execution_count":139,
   "outputs":[
    {
     "name":"stdout",
     "text":[
      "Test data preprocessing complete!\n",
      "Test data shape: (4277, 23)\n",
      "\n",
      "Random Forest predictions done! Total: 4277\n",
      "XGBoost predictions done! Total: 4277\n",
      "submission_rf.csv created\n",
      "submission_xgb.csv created\n"
     ],
     "output_type":"stream"
    }
   ],
   "metadata":{
    "datalore":{
     "node_id":"HYNVdYJ1OllVDuOahBv3aZ",
     "type":"CODE",
     "hide_input_from_viewers":true,
     "hide_output_from_viewers":true
    }
   }
  },
  {
   "cell_type":"code",
   "source":[
    
   ],
   "execution_count":null,
   "outputs":[
    
   ],
   "metadata":{
    "datalore":{
     "node_id":"sSXwYplxmfPz9Waqcwb8Ml",
     "type":"DOWNLOAD",
     "hide_input_from_viewers":true,
     "hide_output_from_viewers":true,
     "download_cell_state":{
      "label":"submission_rf",
      "fileName":"submission_rf.csv",
      "path":""
     }
    }
   }
  },
  {
   "cell_type":"code",
   "source":[
    
   ],
   "execution_count":null,
   "outputs":[
    
   ],
   "metadata":{
    "datalore":{
     "node_id":"bJTqRCjCdCWTpNKJnBFHeG",
     "type":"DOWNLOAD",
     "hide_input_from_viewers":true,
     "hide_output_from_viewers":true,
     "download_cell_state":{
      "label":"submission_xgb",
      "fileName":"submission_xgb.csv",
      "path":""
     }
    }
   }
  }
 ],
 "metadata":{
  "kernelspec":{
   "display_name":"Python",
   "language":"python",
   "name":"python"
  },
  "datalore":{
   "computation_mode":"JUPYTER",
   "package_manager":"pip",
   "base_environment":"minimal",
   "packages":[
    
   ],
   "report_row_ids":[
    
   ],
   "version":3
  }
 },
 "nbformat":4,
 "nbformat_minor":4
}